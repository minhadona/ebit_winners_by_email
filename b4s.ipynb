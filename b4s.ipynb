{
 "cells": [
  {
   "cell_type": "code",
   "execution_count": 1,
   "metadata": {},
   "outputs": [],
   "source": [
    "# script by: @minhadona \n",
    "# suggestions: minhadona@tuta.io"
   ]
  },
  {
   "cell_type": "code",
   "execution_count": 7,
   "metadata": {},
   "outputs": [],
   "source": [
    "#==============================================\n",
    "#---- creating DF by webscraping the winners --\n",
    "#==============================================\n",
    "import requests\n",
    "from bs4 import BeautifulSoup\n",
    "import pandas as pd \n",
    "\n",
    "df = pd.DataFrame(columns=['mes', 'serie', 'premio', 'data_do_sorteio', 'n_sorteado', 'cupom_premiado','nome_ganhador'])\n",
    "r = requests.get('https://company.ebit.com.br/concorra-premios/ultimos-ganhadores')\n",
    "soup = BeautifulSoup(r.content, 'html.parser')\n",
    "\n",
    "table = soup.find(id=\"table-striped\")\n",
    "for row in table.tbody.find_all('tr'):    \n",
    "    # Find all data for each column\n",
    "    columns = row.find_all('td')\n",
    "    mes = columns[0].text.strip()\n",
    "    serie = columns[1].text.strip()\n",
    "    premio = columns[2].text.strip()\n",
    "    data_do_sorteio = columns[3].text.strip()\n",
    "    n_sorteado = columns[4].text.strip()\n",
    "    cupom_premiado = columns[5].text.strip()\n",
    "    nome_ganhador = columns[6].text.strip()\n",
    "\n",
    "    df = df.append({'mes': mes,  'serie': serie, 'premio': premio, 'data_do_sorteio': data_do_sorteio, 'n_sorteado': n_sorteado, 'cupom_premiado': cupom_premiado, 'nome_ganhador':nome_ganhador}, ignore_index=True)"
   ]
  },
  {
   "cell_type": "code",
   "execution_count": 8,
   "metadata": {},
   "outputs": [],
   "source": [
    "#==============================================\n",
    "#----------------- email funcion  -------------\n",
    "#==============================================\n",
    "\n",
    "import smtplib, ssl\n",
    "from email.mime.text import MIMEText\n",
    "from email.mime.multipart import MIMEMultipart\n",
    "from email.header import Header\n",
    "from email.utils import formataddr\n",
    "import os\n",
    "import logging\n",
    "\n",
    "#port = 465  # For SSL\n",
    "port = 465\n",
    "smtp_server = \"smtp.gmail.com\"\n",
    "sender_email = \"ebit_webscraping@minhadona.com\" # Enter your address\n",
    "receiver_email = \"mg88zollverein@gmail.com\"  # Enter receiver address\n",
    "password = os.environ['EMAIL_PASSWORD']\n",
    "email_username = os.environ['EMAIL_USERNAME']\n",
    "message = MIMEMultipart(\"alternative\")\n",
    "message[\"Subject\"] = \"-------------- resultados ebit --------------\"\n",
    "message[\"From\"] = str(Header(\"RESULTADOS EBIT <resultados_ebit@minhadona.com>\"))\n",
    "message[\"To\"] = receiver_email\n",
    "        \n",
    "  \n",
    "def connect_and_send_email(plain_text, html_text):\n",
    "      \n",
    "    # Turn these into plain/html MIMEText objects\n",
    "    part1 = MIMEText(plain_text, \"plain\")\n",
    "    part2 = MIMEText(html_text, \"html\")\n",
    "\n",
    "    # Add HTML/plain-text parts to MIMEMultipart message\n",
    "    # The email client will try to render the last part first\n",
    "    message.attach(part1)\n",
    "    message.attach(part2)\n",
    "    print('<password><'+password+'><username><'+email_username+'>')\n",
    "    context = ssl.create_default_context()\n",
    "    with smtplib.SMTP_SSL(\"smtp.gmail.com\", 465, context=context) as server:\n",
    "        server.ehlo()\n",
    "        logged = server.login(email_username, password)\n",
    "        sent = server.sendmail(sender_email, receiver_email, message.as_string())  \n",
    "        logging.info(f'you are authenticated! return of server.login: {logged} type of server.login: {type(logged)}')\n",
    "        logging.info(f'sent: {sent} type {(type(sent))}') \n",
    "        server.close()\n",
    "        if isinstance(sent,dict):\n",
    "            print('!email successfully sent!')\n",
    "            logging.warning(' this forwards the whole available table; if you just want a sample, reassign the variable <df> to <df.head(n)> by n meaning the number of lines you want on your output table')\n",
    "        "
   ]
  },
  {
   "cell_type": "code",
   "execution_count": 9,
   "metadata": {},
   "outputs": [
    {
     "name": "stdout",
     "output_type": "stream",
     "text": [
      "<password><lmaboymnygovzxsm><username><mg88zollverein@gmail.com>\n"
     ]
    },
    {
     "name": "stderr",
     "output_type": "stream",
     "text": [
      "WARNING:root: this forwards the whole available table; if you just want a sample, reassign the variable <df> to <df.head(n)> by n meaning the number of lines you want on your output table\n"
     ]
    },
    {
     "name": "stdout",
     "output_type": "stream",
     "text": [
      "!email successfully sent!\n"
     ]
    }
   ],
   "source": [
    "#==============================================\n",
    "#---- html tabulating table + send call -------\n",
    "#==============================================\n",
    "\n",
    "from pretty_html_table import build_table\n",
    "\n",
    "html_table = build_table(df, 'green_dark')\n",
    "connect_and_send_email(plain_text=html_table, html_text=html_table)"
   ]
  }
 ],
 "metadata": {
  "interpreter": {
   "hash": "b0fa6594d8f4cbf19f97940f81e996739fb7646882a419484c72d19e05852a7e"
  },
  "kernelspec": {
   "display_name": "Python 3.9.9 64-bit",
   "language": "python",
   "name": "python3"
  },
  "language_info": {
   "codemirror_mode": {
    "name": "ipython",
    "version": 3
   },
   "file_extension": ".py",
   "mimetype": "text/x-python",
   "name": "python",
   "nbconvert_exporter": "python",
   "pygments_lexer": "ipython3",
   "version": "3.9.9"
  },
  "orig_nbformat": 4
 },
 "nbformat": 4,
 "nbformat_minor": 2
}
